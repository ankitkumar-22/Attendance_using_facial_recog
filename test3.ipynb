{
 "cells": [
  {
   "cell_type": "markdown",
   "source": [
    "## Importing the libraries "
   ],
   "metadata": {
    "collapsed": false
   },
   "id": "c39623b8d8479d40"
  },
  {
   "cell_type": "code",
   "execution_count": 9,
   "id": "initial_id",
   "metadata": {
    "collapsed": true,
    "ExecuteTime": {
     "end_time": "2024-10-01T06:02:28.870027500Z",
     "start_time": "2024-10-01T06:02:28.864514Z"
    }
   },
   "outputs": [],
   "source": [
    "from retinaface import RetinaFace\n",
    "from deepface import DeepFace\n",
    "from matplotlib import pyplot as plt\n",
    "import cv2\n",
    "import os\n",
    "import datetime as datetime\n",
    "import pandas as pd\n",
    "import numpy as np"
   ]
  },
  {
   "cell_type": "code",
   "outputs": [],
   "source": [
    "import faiss\n",
    "from datetime import datetime\n",
    "import pickle\n",
    "\n",
    "# Paths\n",
    "DATABASE_DIR = 'path_to_database_images'\n",
    "EMBEDDINGS_FILE = 'embeddings.pkl'\n",
    "ATTENDANCE_FILE = 'attendance_log.csv'"
   ],
   "metadata": {
    "collapsed": false,
    "ExecuteTime": {
     "end_time": "2024-10-01T06:02:29.232835300Z",
     "start_time": "2024-10-01T06:02:29.229802700Z"
    }
   },
   "id": "7e7a877d553ca529",
   "execution_count": 10
  },
  {
   "cell_type": "code",
   "outputs": [],
   "source": [
    "embeddings = []\n",
    "labels = []\n",
    "\n",
    "DATABASE_DIR = 'students'\n",
    "\n",
    "for filename in os.listdir(DATABASE_DIR):\n",
    "    if filename.lower().endswith(('.png','.jpg',',jpeg')):\n",
    "        label = os.path.splitext(filename)[0] # to extract the name of the filename\n",
    "        img_path = os.path.join(DATABASE_DIR,filename)\n",
    "        img = cv2.imread(img_path)\n",
    "        \n",
    "        #Detect the faces \n",
    "        faces = RetinaFace.detect_faces(img)\n",
    "        if faces :\n",
    "            face = faces[next(iter(faces))]\n",
    "            x1,y1,x2,y2 = face['facial_area']\n",
    "            face_img = img[y1:y2, x1:x2]\n",
    "            \n",
    "            #Extract the face embeddings from the image \n",
    "            embedding_original = DeepFace.represent(face_img, model_name='ArcFace', detector_backend=\"retinaface\",enforce_detection= False,align = True)\n",
    "            embedding_dict = embedding_original[0]\n",
    "            embedding = embedding_dict[\"embedding\"]\n",
    "\n",
    "            # Convert embedding to float32 and ensure it's a 1D array\n",
    "            embedding = np.array(embedding).astype('float32').flatten()\n",
    "\n",
    "            embeddings.append(embedding)\n",
    "            label = np.array(label)\n",
    "            labels.append(label)\n",
    "        else:\n",
    "            print(f'No face detected in the {filename}')        "
   ],
   "metadata": {
    "collapsed": false,
    "ExecuteTime": {
     "end_time": "2024-10-01T06:03:40.438328Z",
     "start_time": "2024-10-01T06:02:29.689734100Z"
    }
   },
   "id": "187c04f0c72cf587",
   "execution_count": 11
  },
  {
   "cell_type": "code",
   "outputs": [
    {
     "name": "stdout",
     "output_type": "stream",
     "text": [
      "Embeddings computed and stored.\n"
     ]
    }
   ],
   "source": [
    "labels = np.array(labels)\n",
    "with open(EMBEDDINGS_FILE, 'wb') as f:\n",
    "    pickle.dump({'embeddings': embeddings, 'labels': labels}, f)\n",
    "print(\"Embeddings computed and stored.\")\n",
    "\n"
   ],
   "metadata": {
    "collapsed": false,
    "ExecuteTime": {
     "end_time": "2024-10-01T06:03:40.446061700Z",
     "start_time": "2024-10-01T06:03:40.440329100Z"
    }
   },
   "id": "10ccaa8a412d82fd",
   "execution_count": 12
  },
  {
   "cell_type": "code",
   "outputs": [
    {
     "name": "stdout",
     "output_type": "stream",
     "text": [
      "Total embeddings indexed: 5\n"
     ]
    }
   ],
   "source": [
    "# Load embeddings and labels\n",
    "with open('embeddings.pkl', 'rb') as f:\n",
    "    data = pickle.load(f)\n",
    "database_embeddings = data['embeddings']  # Shape: (num_samples, embedding_dim)\n",
    "database_labels = data['labels']\n",
    "database_embeddings = np.vstack(database_embeddings)\n",
    "# Dimension of the embeddings (e.g., 512 for Facenet)\n",
    "dimension = database_embeddings.shape[1]\n",
    "\n",
    "# Initialize FAISS index (Flat index for exact search)\n",
    "index = faiss.IndexFlatL2(dimension)\n",
    "\n",
    "# Add embeddings to the index\n",
    "index.add(database_embeddings)\n",
    "\n",
    "print(f\"Total embeddings indexed: {index.ntotal}\")\n"
   ],
   "metadata": {
    "collapsed": false,
    "ExecuteTime": {
     "end_time": "2024-10-01T06:03:40.493262Z",
     "start_time": "2024-10-01T06:03:40.448073Z"
    }
   },
   "id": "546733fc044d4e26",
   "execution_count": 13
  },
  {
   "cell_type": "markdown",
   "source": [
    "## Testing the model"
   ],
   "metadata": {
    "collapsed": false
   },
   "id": "ae42f019ad4fa0f6"
  },
  {
   "cell_type": "markdown",
   "source": [],
   "metadata": {
    "collapsed": false
   },
   "id": "52e16d986a2bf9a7"
  },
  {
   "cell_type": "code",
   "outputs": [
    {
     "name": "stdout",
     "output_type": "stream",
     "text": [
      "[[22.385036]]\n",
      "[[0]]\n",
      "['Aniket ']\n",
      "[[11.351365]]\n",
      "[[2]]\n",
      "['Harsh Murmu']\n",
      "[[16.218374]]\n",
      "[[1]]\n",
      "['Ankit']\n"
     ]
    }
   ],
   "source": [
    "classroom_image = cv2.imread('classroom2.jpg')\n",
    "faces = RetinaFace.detect_faces(img_path = \"classroom2.jpg\")\n",
    "threshold = 40\n",
    "for face_key in faces:\n",
    "    face = faces[face_key]\n",
    "    x1,y1,x2,y2 = face['facial_area']\n",
    "    individual_image = classroom_image[y1:y2, x1:x2]\n",
    "    individual_embedding = DeepFace.represent(img_path = individual_image , model_name='ArcFace', detector_backend=\"retinaface\",enforce_detection= False,align = True)[0]\n",
    "    individual_embedding = individual_embedding['embedding']\n",
    "    individual_embedding = np.array(individual_embedding).astype('float32').reshape(1,-1)\n",
    "    distance , indices = index.search(individual_embedding, k=1)\n",
    "    print(distance)\n",
    "    print(indices)\n",
    "    print(database_labels[indices[0]])\n",
    "    "
   ],
   "metadata": {
    "collapsed": false,
    "ExecuteTime": {
     "end_time": "2024-10-01T06:18:34.842119300Z",
     "start_time": "2024-10-01T06:18:10.946162400Z"
    }
   },
   "id": "b9f2bf7977530a91",
   "execution_count": 16
  },
  {
   "cell_type": "code",
   "outputs": [
    {
     "name": "stdout",
     "output_type": "stream",
     "text": [
      "[[12.8744]]\n",
      "[[4]]\n",
      "['Shreyansh Jain']\n",
      "[[12.715242]]\n",
      "[[1]]\n",
      "['Ankit']\n",
      "[[59.676903]]\n",
      "[[2]]\n",
      "['Harsh Murmu']\n"
     ]
    }
   ],
   "source": [
    " classroom_image = cv2.imread('classroom.jpg')\n",
    "faces = RetinaFace.detect_faces(img_path = \"classroom.jpg\")\n",
    "threshold = 40\n",
    "for face_key in faces:\n",
    "    face = faces[face_key]\n",
    "    x1,y1,x2,y2 = face['facial_area']\n",
    "    individual_image = classroom_image[y1:y2, x1:x2]\n",
    "    individual_embedding = DeepFace.represent(img_path = individual_image , model_name='ArcFace', detector_backend=\"retinaface\",enforce_detection= False,align = True)[0]\n",
    "    individual_embedding = individual_embedding['embedding']\n",
    "    individual_embedding = np.array(individual_embedding).astype('float32').reshape(1,-1)\n",
    "    distance , indices = index.search(individual_embedding, k=1)\n",
    "    print(distance)\n",
    "    print(indices)\n",
    "    print(database_labels[indices[0]])\n",
    "    "
   ],
   "metadata": {
    "collapsed": false,
    "ExecuteTime": {
     "end_time": "2024-10-01T11:55:40.286630400Z",
     "start_time": "2024-10-01T11:55:09.403032Z"
    }
   },
   "id": "a56f334f5b692948",
   "execution_count": 17
  },
  {
   "cell_type": "code",
   "outputs": [],
   "source": [],
   "metadata": {
    "collapsed": false
   },
   "id": "9dbc14e784c628d7"
  }
 ],
 "metadata": {
  "kernelspec": {
   "display_name": "Python 3",
   "language": "python",
   "name": "python3"
  },
  "language_info": {
   "codemirror_mode": {
    "name": "ipython",
    "version": 2
   },
   "file_extension": ".py",
   "mimetype": "text/x-python",
   "name": "python",
   "nbconvert_exporter": "python",
   "pygments_lexer": "ipython2",
   "version": "2.7.6"
  }
 },
 "nbformat": 4,
 "nbformat_minor": 5
}
